{
 "cells": [
  {
   "cell_type": "code",
   "execution_count": null,
   "metadata": {
    "trusted": true
   },
   "outputs": [],
   "source": [
    "\n",
    "\n",
    "## **Introduction to Pandas**\n",
    "\n",
    "## **Understanding Series and DataFrame**\n",
    "\n",
    "Pandas is a powerful open-source data analysis and manipulation library \n",
    "for Python. It is built on top of NumPy and provides high-level data \n",
    "structures and tools designed for practical and efficient data analysis.\n",
    "Pandas is widely used in data science, machine learning, and \n",
    "data visualization projects due to its ease of use and versatility.\n",
    "\n",
    "\n",
    "### **1. Series**\n",
    "- A Series is a one-dimensional labeled array.\n",
    "- Syntax: \n",
    "  pandas.Series(data, index=index)\n",
    "\n",
    "- Key Characteristics:\n",
    "  - Homogeneous data type.\n",
    "  - Indexed like a dictionary for quick access.\n",
    "\n",
    "### **2. DataFrame**\n",
    "- A DataFrame is a two-dimensional labeled data structure with rows and columns.\n",
    "- Syntax:\n",
    "  \n",
    "  pandas.DataFrame(data, index=index, columns=columns)\n",
    "  \n",
    "- Key Characteristics:\n",
    "  - Columns can have different data types.\n",
    "  - Offers functionalities for data manipulation, analysis, and visualization.\n",
    "\n"
   ]
  },
  {
   "cell_type": "code",
   "execution_count": null,
   "metadata": {
    "execution": {
     "iopub.execute_input": "2025-01-16T06:19:59.073365Z",
     "iopub.status.busy": "2025-01-16T06:19:59.073047Z",
     "iopub.status.idle": "2025-01-16T06:19:59.435219Z",
     "shell.execute_reply": "2025-01-16T06:19:59.434395Z",
     "shell.execute_reply.started": "2025-01-16T06:19:59.073336Z"
    },
    "trusted": true
   },
   "outputs": [],
   "source": [
    "import pandas as pd"
   ]
  },
  {
   "cell_type": "code",
   "execution_count": null,
   "metadata": {
    "trusted": true
   },
   "outputs": [],
   "source": [
    "import pandas as pd\n",
    "data = [1, 2, 3, 4, 5]\n",
    "series = pd.Series(data, index=['a', 'b', 'c', 'd', 'e'])\n",
    "print(series)\n"
   ]
  },
  {
   "cell_type": "code",
   "execution_count": null,
   "metadata": {
    "trusted": true
   },
   "outputs": [],
   "source": [
    "import pandas as pd\n",
    "data = [1, 2, 3, 4, 5]\n",
    "series = pd.Series(data, index=['a', 'b', 'c', 'd', 'e'])\n",
    "print(series)\n"
   ]
  },
  {
   "cell_type": "code",
   "execution_count": null,
   "metadata": {
    "execution": {
     "iopub.execute_input": "2025-01-12T16:06:48.658629Z",
     "iopub.status.busy": "2025-01-12T16:06:48.657986Z",
     "iopub.status.idle": "2025-01-12T16:06:48.665743Z",
     "shell.execute_reply": "2025-01-12T16:06:48.66435Z",
     "shell.execute_reply.started": "2025-01-12T16:06:48.65859Z"
    },
    "trusted": true
   },
   "outputs": [],
   "source": [
    "data = [1, 2.4, 3.3,\"abc\", 5]\n",
    "series = pd.Series(data, index=['a', 'b', 'c', 'd', 'e'])\n",
    "print(series)\n"
   ]
  },
  {
   "cell_type": "code",
   "execution_count": null,
   "metadata": {
    "execution": {
     "iopub.execute_input": "2025-01-12T16:08:29.538782Z",
     "iopub.status.busy": "2025-01-12T16:08:29.538294Z",
     "iopub.status.idle": "2025-01-12T16:08:29.557187Z",
     "shell.execute_reply": "2025-01-12T16:08:29.555537Z",
     "shell.execute_reply.started": "2025-01-12T16:08:29.538748Z"
    },
    "trusted": true
   },
   "outputs": [],
   "source": [
    "data = {\n",
    "      'Name': ['Alice', 'Bob', 'Charlie'],\n",
    "      'Age': [25, 30, 35],\n",
    "      'City': ['New York', 'Los Angeles', 'Chicago']\n",
    "  }\n",
    "df = pd.DataFrame(data)\n",
    "print(df)"
   ]
  },
  {
   "cell_type": "markdown",
   "metadata": {},
   "source": [
    "## **Creating DataFrames**\n",
    "\n",
    "### **1. From Dictionaries**"
   ]
  },
  {
   "cell_type": "code",
   "execution_count": null,
   "metadata": {
    "execution": {
     "iopub.execute_input": "2025-01-13T04:36:59.981956Z",
     "iopub.status.busy": "2025-01-13T04:36:59.981491Z",
     "iopub.status.idle": "2025-01-13T04:37:00.446616Z",
     "shell.execute_reply": "2025-01-13T04:37:00.44534Z",
     "shell.execute_reply.started": "2025-01-13T04:36:59.981919Z"
    },
    "trusted": true
   },
   "outputs": [],
   "source": [
    "import pandas as pd"
   ]
  },
  {
   "cell_type": "code",
   "execution_count": null,
   "metadata": {
    "execution": {
     "iopub.execute_input": "2025-01-16T06:27:55.949613Z",
     "iopub.status.busy": "2025-01-16T06:27:55.949164Z",
     "iopub.status.idle": "2025-01-16T06:27:55.958682Z",
     "shell.execute_reply": "2025-01-16T06:27:55.957416Z",
     "shell.execute_reply.started": "2025-01-16T06:27:55.949571Z"
    },
    "trusted": true
   },
   "outputs": [],
   "source": [
    "data = {\n",
    "      'Name': ['John', 'Anna', 'Peter'],\n",
    "      'Age': [28, 24, 35],\n",
    "      'Profession': ['Engineer', 'Doctor', 'Lawyer']\n",
    "  }\n",
    "print(data)\n",
    "df = pd.DataFrame(data)\n",
    "print(df)\n"
   ]
  },
  {
   "cell_type": "markdown",
   "metadata": {},
   "source": [
    "### **2. From Arrays**"
   ]
  },
  {
   "cell_type": "code",
   "execution_count": null,
   "metadata": {
    "trusted": true
   },
   "outputs": [],
   "source": [
    "import numpy as np\n",
    "data = np.array([[1, 2, 3], [4, 5, 6]])\n",
    "df = pd.DataFrame(data, columns=['A', 'B', 'C'])\n",
    "print(df)  "
   ]
  },
  {
   "cell_type": "markdown",
   "metadata": {},
   "source": [
    "### Indexing in series:"
   ]
  },
  {
   "cell_type": "code",
   "execution_count": null,
   "metadata": {
    "execution": {
     "iopub.execute_input": "2025-01-16T06:54:46.622162Z",
     "iopub.status.busy": "2025-01-16T06:54:46.621813Z",
     "iopub.status.idle": "2025-01-16T06:54:46.632738Z",
     "shell.execute_reply": "2025-01-16T06:54:46.630951Z",
     "shell.execute_reply.started": "2025-01-16T06:54:46.622137Z"
    },
    "trusted": true
   },
   "outputs": [],
   "source": [
    "data = pd.Series([10, 20, 30, 40], index=['a', 'b', 'c', 'd'])\n",
    "\n",
    "# Accessing by label\n",
    "print(data['b'])  \n",
    "\n",
    "# Accessing by position\n",
    "print(data[2])  \n"
   ]
  },
  {
   "cell_type": "markdown",
   "metadata": {},
   "source": [
    "### Indexing in DataFrame"
   ]
  },
  {
   "cell_type": "code",
   "execution_count": null,
   "metadata": {
    "execution": {
     "iopub.execute_input": "2025-01-16T06:59:42.310648Z",
     "iopub.status.busy": "2025-01-16T06:59:42.31031Z",
     "iopub.status.idle": "2025-01-16T06:59:42.319082Z",
     "shell.execute_reply": "2025-01-16T06:59:42.318183Z",
     "shell.execute_reply.started": "2025-01-16T06:59:42.310607Z"
    },
    "trusted": true
   },
   "outputs": [],
   "source": [
    "# Creating a DataFrame\n",
    "data = {\n",
    "    'Name': ['Alice', 'Bob', 'Charlie'],\n",
    "    'Age': [25, 30, 35],\n",
    "    'City': ['New York', 'Los Angeles', 'Chicago']\n",
    "}\n",
    "df = pd.DataFrame(data)\n",
    "print(df)"
   ]
  },
  {
   "cell_type": "code",
   "execution_count": null,
   "metadata": {
    "trusted": true
   },
   "outputs": [],
   "source": [
    "# Accessing a column by label\n",
    "print(df['Name']) "
   ]
  },
  {
   "cell_type": "code",
   "execution_count": null,
   "metadata": {
    "execution": {
     "iopub.execute_input": "2025-01-16T07:00:14.89441Z",
     "iopub.status.busy": "2025-01-16T07:00:14.894057Z",
     "iopub.status.idle": "2025-01-16T07:00:14.924214Z",
     "shell.execute_reply": "2025-01-16T07:00:14.923093Z",
     "shell.execute_reply.started": "2025-01-16T07:00:14.894386Z"
    },
    "trusted": true
   },
   "outputs": [],
   "source": [
    "# Accessing multiple columns\n",
    "print(df[['Name', 'Age']])  # Outputs \"Name\" and \"Age\" columns\n"
   ]
  },
  {
   "cell_type": "code",
   "execution_count": null,
   "metadata": {
    "execution": {
     "iopub.execute_input": "2025-01-16T07:00:29.491991Z",
     "iopub.status.busy": "2025-01-16T07:00:29.491613Z",
     "iopub.status.idle": "2025-01-16T07:00:29.498072Z",
     "shell.execute_reply": "2025-01-16T07:00:29.496516Z",
     "shell.execute_reply.started": "2025-01-16T07:00:29.491966Z"
    },
    "trusted": true
   },
   "outputs": [],
   "source": [
    "# Accessing a row using .loc (label-based)\n",
    "print(df.loc[1])  # Row with index 1 (Bob)\n"
   ]
  },
  {
   "cell_type": "code",
   "execution_count": null,
   "metadata": {
    "execution": {
     "iopub.execute_input": "2025-01-12T16:24:28.869Z",
     "iopub.status.busy": "2025-01-12T16:24:28.86862Z",
     "iopub.status.idle": "2025-01-12T16:24:28.875648Z",
     "shell.execute_reply": "2025-01-12T16:24:28.874239Z",
     "shell.execute_reply.started": "2025-01-12T16:24:28.868974Z"
    },
    "trusted": true
   },
   "outputs": [],
   "source": [
    "# Accessing a row using .iloc (position-based)\n",
    "print(df.iloc[2])  # Third row (Charlie)"
   ]
  },
  {
   "cell_type": "markdown",
   "metadata": {},
   "source": [
    "#### slicing:\n"
   ]
  },
  {
   "cell_type": "code",
   "execution_count": null,
   "metadata": {
    "execution": {
     "iopub.execute_input": "2025-01-16T07:02:53.379299Z",
     "iopub.status.busy": "2025-01-16T07:02:53.37896Z",
     "iopub.status.idle": "2025-01-16T07:02:53.388527Z",
     "shell.execute_reply": "2025-01-16T07:02:53.387443Z",
     "shell.execute_reply.started": "2025-01-16T07:02:53.379276Z"
    },
    "trusted": true
   },
   "outputs": [],
   "source": [
    "import pandas as pd\n",
    "\n",
    "# Creating a Series\n",
    "data = pd.Series([10, 20, 30, 40, 50], index=['a', 'b', 'c', 'd', 'e'])\n",
    "\n",
    "# Slicing by position\n",
    "print(data[1:4])  # Outputs 20,30,40\n",
    "\n",
    "# Slicing by index label\n",
    "print(data['b':'d'])  # Outputs 20,30,40\n",
    "\n",
    "# Reverse slicing\n",
    "print(data[::-1])  # Outputs elements in reverse order\n",
    "\n",
    "# Slicing with step\n",
    "print(data[::2])  # Every second element\n"
   ]
  },
  {
   "cell_type": "markdown",
   "metadata": {},
   "source": [
    "### **3. From CSV Files** "
   ]
  },
  {
   "cell_type": "code",
   "execution_count": null,
   "metadata": {
    "execution": {
     "iopub.execute_input": "2025-01-14T03:49:30.243611Z",
     "iopub.status.busy": "2025-01-14T03:49:30.243125Z",
     "iopub.status.idle": "2025-01-14T03:49:30.248307Z",
     "shell.execute_reply": "2025-01-14T03:49:30.247113Z",
     "shell.execute_reply.started": "2025-01-14T03:49:30.243583Z"
    },
    "trusted": true
   },
   "outputs": [],
   "source": [
    "import pandas as pd"
   ]
  },
  {
   "cell_type": "code",
   "execution_count": null,
   "metadata": {
    "execution": {
     "iopub.execute_input": "2025-01-16T07:13:53.166538Z",
     "iopub.status.busy": "2025-01-16T07:13:53.166134Z",
     "iopub.status.idle": "2025-01-16T07:13:53.21243Z",
     "shell.execute_reply": "2025-01-16T07:13:53.211451Z",
     "shell.execute_reply.started": "2025-01-16T07:13:53.166506Z"
    },
    "trusted": true
   },
   "outputs": [],
   "source": [
    "df = pd.read_csv(\"/kaggle/input/home-loan-approval-train-dataset/loan_sanction_train.csv\")\n",
    "df.head(10)"
   ]
  },
  {
   "cell_type": "code",
   "execution_count": null,
   "metadata": {
    "execution": {
     "iopub.execute_input": "2025-01-16T07:14:03.04821Z",
     "iopub.status.busy": "2025-01-16T07:14:03.047813Z",
     "iopub.status.idle": "2025-01-16T07:14:03.064506Z",
     "shell.execute_reply": "2025-01-16T07:14:03.063239Z",
     "shell.execute_reply.started": "2025-01-16T07:14:03.04815Z"
    },
    "trusted": true
   },
   "outputs": [],
   "source": [
    "df.head()"
   ]
  },
  {
   "cell_type": "code",
   "execution_count": null,
   "metadata": {
    "execution": {
     "iopub.execute_input": "2025-01-14T04:26:30.934385Z",
     "iopub.status.busy": "2025-01-14T04:26:30.93399Z",
     "iopub.status.idle": "2025-01-14T04:26:30.952052Z",
     "shell.execute_reply": "2025-01-14T04:26:30.951051Z",
     "shell.execute_reply.started": "2025-01-14T04:26:30.934353Z"
    },
    "trusted": true
   },
   "outputs": [],
   "source": [
    "df.head(10)"
   ]
  },
  {
   "cell_type": "code",
   "execution_count": null,
   "metadata": {
    "execution": {
     "iopub.execute_input": "2025-01-16T07:14:29.086175Z",
     "iopub.status.busy": "2025-01-16T07:14:29.08571Z",
     "iopub.status.idle": "2025-01-16T07:14:29.104872Z",
     "shell.execute_reply": "2025-01-16T07:14:29.103759Z",
     "shell.execute_reply.started": "2025-01-16T07:14:29.08614Z"
    },
    "trusted": true
   },
   "outputs": [],
   "source": [
    "df.tail()"
   ]
  },
  {
   "cell_type": "code",
   "execution_count": null,
   "metadata": {
    "execution": {
     "iopub.execute_input": "2025-01-14T04:26:49.214962Z",
     "iopub.status.busy": "2025-01-14T04:26:49.214525Z",
     "iopub.status.idle": "2025-01-14T04:26:49.231584Z",
     "shell.execute_reply": "2025-01-14T04:26:49.230423Z",
     "shell.execute_reply.started": "2025-01-14T04:26:49.214927Z"
    },
    "trusted": true
   },
   "outputs": [],
   "source": [
    "df.tail(10)"
   ]
  },
  {
   "cell_type": "code",
   "execution_count": null,
   "metadata": {
    "execution": {
     "iopub.execute_input": "2025-01-16T07:15:02.562446Z",
     "iopub.status.busy": "2025-01-16T07:15:02.562085Z",
     "iopub.status.idle": "2025-01-16T07:15:02.568613Z",
     "shell.execute_reply": "2025-01-16T07:15:02.567306Z",
     "shell.execute_reply.started": "2025-01-16T07:15:02.562419Z"
    },
    "trusted": true
   },
   "outputs": [],
   "source": [
    "df.shape"
   ]
  },
  {
   "cell_type": "code",
   "execution_count": null,
   "metadata": {
    "execution": {
     "iopub.execute_input": "2025-01-16T07:15:33.464301Z",
     "iopub.status.busy": "2025-01-16T07:15:33.463986Z",
     "iopub.status.idle": "2025-01-16T07:15:33.497389Z",
     "shell.execute_reply": "2025-01-16T07:15:33.496227Z",
     "shell.execute_reply.started": "2025-01-16T07:15:33.464277Z"
    },
    "trusted": true
   },
   "outputs": [],
   "source": [
    "df.describe()"
   ]
  },
  {
   "cell_type": "code",
   "execution_count": null,
   "metadata": {
    "execution": {
     "iopub.execute_input": "2025-01-16T07:17:42.003761Z",
     "iopub.status.busy": "2025-01-16T07:17:42.00334Z",
     "iopub.status.idle": "2025-01-16T07:17:42.02037Z",
     "shell.execute_reply": "2025-01-16T07:17:42.019296Z",
     "shell.execute_reply.started": "2025-01-16T07:17:42.003731Z"
    },
    "trusted": true
   },
   "outputs": [],
   "source": [
    "df.rename(columns={'CoapplicantIncome': 'CA'}, inplace=True)\n",
    "df.head()"
   ]
  },
  {
   "cell_type": "code",
   "execution_count": null,
   "metadata": {
    "execution": {
     "iopub.execute_input": "2025-01-16T07:25:01.545404Z",
     "iopub.status.busy": "2025-01-16T07:25:01.544946Z",
     "iopub.status.idle": "2025-01-16T07:25:01.56625Z",
     "shell.execute_reply": "2025-01-16T07:25:01.565008Z",
     "shell.execute_reply.started": "2025-01-16T07:25:01.545366Z"
    },
    "trusted": true
   },
   "outputs": [],
   "source": [
    "df.drop(columns=['CA'], inplace=True)\n",
    "#df.drop(index=[0, 1], inplace=True)  # Drop rows 0 and 1\n",
    "df.head()"
   ]
  },
  {
   "cell_type": "code",
   "execution_count": null,
   "metadata": {
    "execution": {
     "iopub.execute_input": "2025-01-16T07:25:39.607453Z",
     "iopub.status.busy": "2025-01-16T07:25:39.607132Z",
     "iopub.status.idle": "2025-01-16T07:25:39.640914Z",
     "shell.execute_reply": "2025-01-16T07:25:39.639926Z",
     "shell.execute_reply.started": "2025-01-16T07:25:39.60743Z"
    },
    "trusted": true
   },
   "outputs": [],
   "source": [
    "df.info()"
   ]
  },
  {
   "cell_type": "code",
   "execution_count": null,
   "metadata": {
    "execution": {
     "iopub.execute_input": "2025-03-03T05:23:57.896115Z",
     "iopub.status.busy": "2025-03-03T05:23:57.89574Z",
     "iopub.status.idle": "2025-03-03T05:23:58.287156Z",
     "shell.execute_reply": "2025-03-03T05:23:58.286085Z",
     "shell.execute_reply.started": "2025-03-03T05:23:57.89608Z"
    },
    "trusted": true
   },
   "outputs": [],
   "source": [
    "import numpy as np\n",
    "import pandas as pd"
   ]
  },
  {
   "cell_type": "code",
   "execution_count": null,
   "metadata": {
    "execution": {
     "iopub.execute_input": "2025-03-03T05:24:02.123597Z",
     "iopub.status.busy": "2025-03-03T05:24:02.123075Z",
     "iopub.status.idle": "2025-03-03T05:24:02.594678Z",
     "shell.execute_reply": "2025-03-03T05:24:02.593534Z",
     "shell.execute_reply.started": "2025-03-03T05:24:02.123563Z"
    },
    "trusted": true
   },
   "outputs": [],
   "source": [
    "df1 = pd.read_excel(\"/kaggle/input/model12/tensorflow2/default/1/Batch_report (13).xlsx\")\n",
    "df1"
   ]
  }
 ],
 "metadata": {
  "kaggle": {
   "accelerator": "none",
   "dataSources": [
    {
     "datasetId": 3723527,
     "sourceId": 6449993,
     "sourceType": "datasetVersion"
    },
    {
     "modelId": 255742,
     "modelInstanceId": 234040,
     "sourceId": 273354,
     "sourceType": "modelInstanceVersion"
    }
   ],
   "dockerImageVersionId": 30822,
   "isGpuEnabled": false,
   "isInternetEnabled": false,
   "language": "python",
   "sourceType": "notebook"
  },
  "kernelspec": {
   "display_name": "Python 3",
   "language": "python",
   "name": "python3"
  },
  "language_info": {
   "codemirror_mode": {
    "name": "ipython",
    "version": 3
   },
   "file_extension": ".py",
   "mimetype": "text/x-python",
   "name": "python",
   "nbconvert_exporter": "python",
   "pygments_lexer": "ipython3",
   "version": "3.10.12"
  }
 },
 "nbformat": 4,
 "nbformat_minor": 4
}
